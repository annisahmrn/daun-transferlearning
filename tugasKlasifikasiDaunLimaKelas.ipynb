{
  "nbformat": 4,
  "nbformat_minor": 0,
  "metadata": {
    "colab": {
      "name": "tugasKlasifikasiDaunLimaKelas.ipynb",
      "provenance": [],
      "collapsed_sections": [],
      "authorship_tag": "ABX9TyMGRDnsOF+ElJwZKbLgkY2J",
      "include_colab_link": true
    },
    "kernelspec": {
      "name": "python3",
      "display_name": "Python 3"
    }
  },
  "cells": [
    {
      "cell_type": "markdown",
      "metadata": {
        "id": "view-in-github",
        "colab_type": "text"
      },
      "source": [
        "<a href=\"https://colab.research.google.com/github/annisahmrn/daun-transferlearning/blob/main/tugasKlasifikasiDaunLimaKelas.ipynb\" target=\"_parent\"><img src=\"https://colab.research.google.com/assets/colab-badge.svg\" alt=\"Open In Colab\"/></a>"
      ]
    },
    {
      "cell_type": "code",
      "metadata": {
        "colab": {
          "base_uri": "https://localhost:8080/"
        },
        "id": "PUxnGGWHOBuT",
        "outputId": "809d593e-cbdb-455e-c797-8fcfcec42ba5"
      },
      "source": [
        "print(\"Tugas Annisa Humairani 2101201028\")"
      ],
      "execution_count": null,
      "outputs": [
        {
          "output_type": "stream",
          "text": [
            "Tugas Annisa Humairani 2101201028\n"
          ],
          "name": "stdout"
        }
      ]
    },
    {
      "cell_type": "code",
      "metadata": {
        "colab": {
          "base_uri": "https://localhost:8080/"
        },
        "id": "aBy-20CyOOUA",
        "outputId": "95738030-d51c-4539-ffbd-d193ed620a47"
      },
      "source": [
        "from google.colab import drive\n",
        "drive.mount('/content/drive')"
      ],
      "execution_count": 149,
      "outputs": [
        {
          "output_type": "stream",
          "text": [
            "Drive already mounted at /content/drive; to attempt to forcibly remount, call drive.mount(\"/content/drive\", force_remount=True).\n"
          ],
          "name": "stdout"
        }
      ]
    },
    {
      "cell_type": "code",
      "metadata": {
        "colab": {
          "base_uri": "https://localhost:8080/"
        },
        "id": "ugA2SdGiOQu3",
        "outputId": "e5d19b19-f5f0-49f6-e1f4-6ba3d35779ff"
      },
      "source": [
        "cd /content/drive/My Drive"
      ],
      "execution_count": 150,
      "outputs": [
        {
          "output_type": "stream",
          "text": [
            "/content/drive/My Drive\n"
          ],
          "name": "stdout"
        }
      ]
    },
    {
      "cell_type": "code",
      "metadata": {
        "id": "5SlESgccOS7X"
      },
      "source": [
        "ls"
      ],
      "execution_count": null,
      "outputs": []
    },
    {
      "cell_type": "code",
      "metadata": {
        "id": "EdlFLcg5OViE"
      },
      "source": [
        "# import the necessary packages\n",
        "from keras.models import Sequential\n",
        "from keras.layers.convolutional import Conv2D\n",
        "from keras.layers.convolutional import MaxPooling2D\n",
        "from keras.layers.core import Activation\n",
        "from keras.layers.core import Flatten\n",
        "from keras.layers.core import Dense\n",
        "from keras.optimizers import Adam\n",
        "from sklearn.preprocessing import LabelBinarizer\n",
        "from sklearn.model_selection import train_test_split\n",
        "from sklearn.metrics import classification_report\n",
        "from PIL import Image\n",
        "from imutils import paths\n",
        "import numpy as np\n",
        "import os"
      ],
      "execution_count": 152,
      "outputs": []
    },
    {
      "cell_type": "code",
      "metadata": {
        "colab": {
          "base_uri": "https://localhost:8080/"
        },
        "id": "H95YzjFXOXaW",
        "outputId": "8d474ba8-1afa-41bc-ed0a-1dbcff9625ca"
      },
      "source": [
        "# grab all image paths in the input dataset directory, then initialize\n",
        "# our list of images and corresponding class labels\n",
        "print(\"[INFO] loading images...\")\n",
        "imagePaths = paths.list_images(\"daundaun\")\n",
        "data = []\n",
        "labels = []"
      ],
      "execution_count": 153,
      "outputs": [
        {
          "output_type": "stream",
          "text": [
            "[INFO] loading images...\n"
          ],
          "name": "stdout"
        }
      ]
    },
    {
      "cell_type": "code",
      "metadata": {
        "id": "d_HkHl-qOawq"
      },
      "source": [
        "# loop over our input images\n",
        "for imagePath in imagePaths:\n",
        "\t# load the input image from disk, resize it to 64x64 pixels, scale\n",
        "\t# the pixel intensities to the range [0, 1], and then update our\n",
        "\t# images list\n",
        "\timage = Image.open(imagePath)\n",
        "\timage = np.array(image.resize((224, 224))) / 255.0\n",
        "\tdata.append(image)\n",
        "\n",
        "\t# extract the class label from the file path and update the\n",
        "\t# labels list\n",
        "\tlabel = imagePath.split(os.path.sep)[-2]\n",
        "\tlabels.append(label)"
      ],
      "execution_count": 154,
      "outputs": []
    },
    {
      "cell_type": "code",
      "metadata": {
        "colab": {
          "base_uri": "https://localhost:8080/"
        },
        "id": "blsoFXE5Ocj9",
        "outputId": "69c49417-4b4c-48b3-ff40-0d20559b6a00"
      },
      "source": [
        "print(labels)"
      ],
      "execution_count": 155,
      "outputs": [
        {
          "output_type": "stream",
          "text": [
            "['GMB_08', 'GMB_08', 'GMB_08', 'GMB_08', 'GMB_08', 'GMB_08', 'GMB_08', 'GMB_08', 'GMB_08', 'GMB_08', 'GMB_08', 'GMB_08', 'GMB_08', 'GMB_08', 'GMB_08', 'GMB_08', 'GMB_08', 'GMB_08', 'GMB_08', 'GMB_08', 'GMB_08', 'GMB_08', 'GMB_08', 'GMB_08', 'GMB_08', 'GMB_08', 'GMB_08', 'GMB_08', 'GMB_08', 'GMB_08', 'GMB_08', 'GMB_08', 'GMB_08', 'GMB_08', 'GMB_08', 'GMB_08', 'GMB_08', 'GMB_08', 'GMB_08', 'GMB_08', 'GMB_08', 'GMB_08', 'GMB_08', 'GMB_08', 'GMB_08', 'GMB_08', 'GMB_08', 'GMB_08', 'GMB_08', 'GMB_08', 'GMB_08', 'GMB_08', 'GMB_08', 'GMB_08', 'GMB_08', 'GMB_08', 'GMB_08', 'GMB_08', 'GMB_08', 'GMB_08', 'GMB_08', 'GMB_08', 'GMB_08', 'GMB_08', 'GMB_08', 'GMB_08', 'GMB_08', 'GMB_08', 'GMB_08', 'GMB_08', 'GMB_08', 'GMB_08', 'GMB_08', 'GMB_08', 'GMB_08', 'GMB_08', 'GMB_08', 'GMB_08', 'GMB_08', 'GMB_08', 'GMB_08', 'GMB_08', 'GMB_08', 'GMB_08', 'GMB_08', 'GMB_08', 'GMB_08', 'GMB_08', 'GMB_08', 'GMB_08', 'GMB_08', 'GMB_08', 'GMB_08', 'GMB_08', 'GMB_08', 'GMB_08', 'GMB_08', 'GMB_08', 'GMB_08', 'GMB_08', 'GMB_08', 'GMB_08', 'GMB_08', 'GMB_08', 'GMB_08', 'GMB_08', 'GMB_08', 'GMB_08', 'GMB_08', 'GMB_08', 'GMB_08', 'GMB_08', 'GMB_08', 'GMB_08', 'GMB_08', 'GMB_08', 'GMB_08', 'GMB_02', 'GMB_02', 'GMB_02', 'GMB_02', 'GMB_02', 'GMB_02', 'GMB_02', 'GMB_02', 'GMB_02', 'GMB_02', 'GMB_02', 'GMB_02', 'GMB_02', 'GMB_02', 'GMB_02', 'GMB_02', 'GMB_02', 'GMB_02', 'GMB_02', 'GMB_02', 'GMB_02', 'GMB_02', 'GMB_02', 'GMB_02', 'GMB_02', 'GMB_02', 'GMB_02', 'GMB_02', 'GMB_02', 'GMB_02', 'GMB_02', 'GMB_02', 'GMB_02', 'GMB_02', 'GMB_02', 'GMB_02', 'GMB_02', 'GMB_02', 'GMB_02', 'GMB_02', 'GMB_02', 'GMB_02', 'GMB_02', 'GMB_02', 'GMB_02', 'GMB_02', 'GMB_02', 'GMB_02', 'GMB_02', 'GMB_02', 'GMB_02', 'GMB_02', 'GMB_02', 'GMB_02', 'GMB_02', 'GMB_02', 'GMB_02', 'GMB_02', 'GMB_02', 'GMB_02', 'GMB_02', 'GMB_02', 'GMB_02', 'GMB_02', 'GMB_02', 'GMB_02', 'GMB_02', 'GMB_02', 'GMB_02', 'GMB_02', 'GMB_02', 'GMB_02', 'GMB_02', 'GMB_02', 'GMB_02', 'GMB_02', 'GMB_02', 'GMB_02', 'GMB_02', 'GMB_02', 'GMB_02', 'GMB_02', 'GMB_02', 'GMB_02', 'GMB_02', 'GMB_02', 'GMB_02', 'GMB_02', 'GMB_02', 'GMB_02', 'GMB_02', 'GMB_02', 'GMB_02', 'GMB_02', 'GMB_02', 'GMB_02', 'GMB_02', 'GMB_02', 'GMB_02', 'GMB_02', 'GMB_02', 'GMB_02', 'GMB_02', 'GMB_02', 'GMB_02', 'GMB_02', 'GMB_02', 'GMB_02', 'GMB_02', 'GMB_02', 'GMB_02', 'GMB_02', 'GMB_02', 'GMB_03', 'GMB_03', 'GMB_03', 'GMB_03', 'GMB_03', 'GMB_03', 'GMB_03', 'GMB_03', 'GMB_03', 'GMB_03', 'GMB_03', 'GMB_03', 'GMB_03', 'GMB_03', 'GMB_03', 'GMB_03', 'GMB_03', 'GMB_03', 'GMB_03', 'GMB_03', 'GMB_03', 'GMB_03', 'GMB_03', 'GMB_03', 'GMB_03', 'GMB_03', 'GMB_03', 'GMB_03', 'GMB_03', 'GMB_03', 'GMB_03', 'GMB_03', 'GMB_03', 'GMB_03', 'GMB_03', 'GMB_03', 'GMB_03', 'GMB_03', 'GMB_03', 'GMB_03', 'GMB_03', 'GMB_03', 'GMB_03', 'GMB_03', 'GMB_03', 'GMB_03', 'GMB_03', 'GMB_03', 'GMB_03', 'GMB_03', 'GMB_03', 'GMB_03', 'GMB_03', 'GMB_03', 'GMB_03', 'GMB_03', 'GMB_03', 'GMB_03', 'GMB_03', 'GMB_03', 'GMB_03', 'GMB_03', 'GMB_03', 'GMB_03', 'GMB_03', 'GMB_03', 'GMB_03', 'GMB_03', 'GMB_03', 'GMB_03', 'GMB_03', 'GMB_03', 'GMB_03', 'GMB_03', 'GMB_03', 'GMB_03', 'GMB_03', 'GMB_03', 'GMB_03', 'GMB_03', 'GMB_03', 'GMB_03', 'GMB_03', 'GMB_03', 'GMB_03', 'GMB_03', 'GMB_03', 'GMB_03', 'GMB_03', 'GMB_03', 'GMB_03', 'GMB_03', 'GMB_03', 'GMB_03', 'GMB_03', 'GMB_03', 'GMB_03', 'GMB_03', 'GMB_03', 'GMB_03', 'GMB_03', 'GMB_03', 'GMB_03', 'GMB_03', 'GMB_03', 'GMB_03', 'GMB_03', 'GMB_03', 'GMB_03', 'GMB_03', 'GMB_03', 'GMB_03', 'GMB_09', 'GMB_09', 'GMB_09', 'GMB_09', 'GMB_09', 'GMB_09', 'GMB_09', 'GMB_09', 'GMB_09', 'GMB_09', 'GMB_09', 'GMB_09', 'GMB_09', 'GMB_09', 'GMB_09', 'GMB_09', 'GMB_09', 'GMB_09', 'GMB_09', 'GMB_09', 'GMB_09', 'GMB_09', 'GMB_09', 'GMB_09', 'GMB_09', 'GMB_09', 'GMB_09', 'GMB_09', 'GMB_09', 'GMB_09', 'GMB_09', 'GMB_09', 'GMB_09', 'GMB_09', 'GMB_09', 'GMB_09', 'GMB_09', 'GMB_09', 'GMB_09', 'GMB_09', 'GMB_09', 'GMB_09', 'GMB_09', 'GMB_09', 'GMB_09', 'GMB_09', 'GMB_09', 'GMB_09', 'GMB_09', 'GMB_09', 'GMB_09', 'GMB_09', 'GMB_09', 'GMB_09', 'GMB_09', 'GMB_09', 'GMB_09', 'GMB_09', 'GMB_09', 'GMB_09', 'GMB_09', 'GMB_09', 'GMB_09', 'GMB_09', 'GMB_09', 'GMB_09', 'GMB_09', 'GMB_09', 'GMB_09', 'GMB_09', 'GMB_09', 'GMB_09', 'GMB_09', 'GMB_09', 'GMB_09', 'GMB_09', 'GMB_09', 'GMB_09', 'GMB_09', 'GMB_09', 'GMB_09', 'GMB_09', 'GMB_09', 'GMB_09', 'GMB_09', 'GMB_09', 'GMB_09', 'GMB_09', 'GMB_09', 'GMB_09', 'GMB_09', 'GMB_09', 'GMB_09', 'GMB_09', 'GMB_09', 'GMB_09', 'GMB_09', 'GMB_09', 'GMB_09', 'GMB_09', 'GMB_09', 'GMB_09', 'GMB_09', 'GMB_09', 'GMB_09', 'GMB_09', 'GMB_09', 'GMB_09', 'GMB_09', 'GMB_09', 'GMB_09', 'GMB_09', 'GMB_09', 'GMB_09', 'GMB_09', 'nonGMB', 'nonGMB', 'nonGMB', 'nonGMB', 'nonGMB', 'nonGMB', 'nonGMB', 'nonGMB', 'nonGMB', 'nonGMB', 'nonGMB', 'nonGMB', 'nonGMB', 'nonGMB', 'nonGMB', 'nonGMB', 'nonGMB', 'nonGMB', 'nonGMB', 'nonGMB', 'nonGMB', 'nonGMB', 'nonGMB', 'nonGMB', 'nonGMB', 'nonGMB', 'nonGMB', 'nonGMB', 'nonGMB', 'nonGMB', 'nonGMB', 'nonGMB', 'nonGMB', 'nonGMB', 'nonGMB', 'nonGMB', 'nonGMB', 'nonGMB', 'nonGMB', 'nonGMB', 'nonGMB', 'nonGMB', 'nonGMB', 'nonGMB', 'nonGMB', 'nonGMB', 'nonGMB', 'nonGMB', 'nonGMB', 'nonGMB', 'nonGMB', 'nonGMB', 'nonGMB', 'nonGMB', 'nonGMB', 'nonGMB', 'nonGMB', 'nonGMB', 'nonGMB', 'nonGMB', 'nonGMB', 'nonGMB', 'nonGMB', 'nonGMB', 'nonGMB', 'nonGMB', 'nonGMB', 'nonGMB', 'nonGMB', 'nonGMB', 'nonGMB', 'nonGMB', 'nonGMB', 'nonGMB', 'nonGMB', 'nonGMB', 'nonGMB', 'nonGMB', 'nonGMB', 'nonGMB', 'nonGMB', 'nonGMB', 'nonGMB', 'nonGMB', 'nonGMB', 'nonGMB', 'nonGMB', 'nonGMB', 'nonGMB', 'nonGMB', 'nonGMB', 'nonGMB', 'nonGMB', 'nonGMB', 'nonGMB', 'nonGMB', 'nonGMB', 'nonGMB', 'nonGMB', 'nonGMB', 'nonGMB', 'nonGMB', 'nonGMB', 'nonGMB', 'nonGMB', 'nonGMB']\n"
          ],
          "name": "stdout"
        }
      ]
    },
    {
      "cell_type": "code",
      "metadata": {
        "id": "tDCs-2T-OewQ"
      },
      "source": [
        "# encode the labels, converting them from strings to integers\n",
        "lb = LabelBinarizer()\n",
        "labels = lb.fit_transform(labels)"
      ],
      "execution_count": 156,
      "outputs": []
    },
    {
      "cell_type": "code",
      "metadata": {
        "colab": {
          "base_uri": "https://localhost:8080/"
        },
        "id": "R2rTUKQbOhEl",
        "outputId": "057f5e26-35f8-41c2-e4e5-c509a38a911a"
      },
      "source": [
        "print(labels)"
      ],
      "execution_count": 157,
      "outputs": [
        {
          "output_type": "stream",
          "text": [
            "[[0 0 1 0 0]\n",
            " [0 0 1 0 0]\n",
            " [0 0 1 0 0]\n",
            " ...\n",
            " [0 0 0 0 1]\n",
            " [0 0 0 0 1]\n",
            " [0 0 0 0 1]]\n"
          ],
          "name": "stdout"
        }
      ]
    },
    {
      "cell_type": "code",
      "metadata": {
        "colab": {
          "base_uri": "https://localhost:8080/"
        },
        "id": "02EBWHhPOiQk",
        "outputId": "0fb56ed4-b790-471e-c35b-6d4867640810"
      },
      "source": [
        "# perform a training and testing split, using 85% of the data for\n",
        "# training and 15% for evaluation\n",
        "(trainX, testX, trainY, testY) = train_test_split(np.array(data),\tnp.array(labels), test_size=0.15)\n",
        "print(trainX.shape)\n",
        "print(testX.shape)"
      ],
      "execution_count": 158,
      "outputs": [
        {
          "output_type": "stream",
          "text": [
            "(478, 224, 224, 3)\n",
            "(85, 224, 224, 3)\n"
          ],
          "name": "stdout"
        }
      ]
    },
    {
      "cell_type": "code",
      "metadata": {
        "id": "hpH-spFAOkM0"
      },
      "source": [
        "from keras.applications.mobilenet import MobileNet\n",
        "from keras.callbacks import EarlyStopping, ModelCheckpoint\n",
        "from keras.models import Model\n",
        "from keras.layers import GlobalAveragePooling2D, BatchNormalization"
      ],
      "execution_count": 159,
      "outputs": []
    },
    {
      "cell_type": "code",
      "metadata": {
        "id": "Lw-UK-ugOmIb",
        "colab": {
          "base_uri": "https://localhost:8080/"
        },
        "outputId": "0106ddbe-92e6-4630-9423-84a6aea942b0"
      },
      "source": [
        "from keras.layers import Dropout\n",
        "base_model = MobileNet(weights='imagenet', include_top=False)\n",
        "x = base_model.output\n",
        "x = GlobalAveragePooling2D()(x)\n",
        "x = Dropout(0.5)(x)\n",
        "x = BatchNormalization()(x)\n",
        "x = Dense(512, activation='relu')(x)\n",
        "out = Dense(5, activation='softmax')(x)\n",
        "\n",
        "model = Model(inputs=base_model.input, outputs=out)\n",
        "model.summary()"
      ],
      "execution_count": 160,
      "outputs": [
        {
          "output_type": "stream",
          "text": [
            "WARNING:tensorflow:`input_shape` is undefined or non-square, or `rows` is not in [128, 160, 192, 224]. Weights for input shape (224, 224) will be loaded as the default.\n",
            "Model: \"functional_23\"\n",
            "_________________________________________________________________\n",
            "Layer (type)                 Output Shape              Param #   \n",
            "=================================================================\n",
            "input_12 (InputLayer)        [(None, None, None, 3)]   0         \n",
            "_________________________________________________________________\n",
            "conv1_pad (ZeroPadding2D)    (None, None, None, 3)     0         \n",
            "_________________________________________________________________\n",
            "conv1 (Conv2D)               (None, None, None, 32)    864       \n",
            "_________________________________________________________________\n",
            "conv1_bn (BatchNormalization (None, None, None, 32)    128       \n",
            "_________________________________________________________________\n",
            "conv1_relu (ReLU)            (None, None, None, 32)    0         \n",
            "_________________________________________________________________\n",
            "conv_dw_1 (DepthwiseConv2D)  (None, None, None, 32)    288       \n",
            "_________________________________________________________________\n",
            "conv_dw_1_bn (BatchNormaliza (None, None, None, 32)    128       \n",
            "_________________________________________________________________\n",
            "conv_dw_1_relu (ReLU)        (None, None, None, 32)    0         \n",
            "_________________________________________________________________\n",
            "conv_pw_1 (Conv2D)           (None, None, None, 64)    2048      \n",
            "_________________________________________________________________\n",
            "conv_pw_1_bn (BatchNormaliza (None, None, None, 64)    256       \n",
            "_________________________________________________________________\n",
            "conv_pw_1_relu (ReLU)        (None, None, None, 64)    0         \n",
            "_________________________________________________________________\n",
            "conv_pad_2 (ZeroPadding2D)   (None, None, None, 64)    0         \n",
            "_________________________________________________________________\n",
            "conv_dw_2 (DepthwiseConv2D)  (None, None, None, 64)    576       \n",
            "_________________________________________________________________\n",
            "conv_dw_2_bn (BatchNormaliza (None, None, None, 64)    256       \n",
            "_________________________________________________________________\n",
            "conv_dw_2_relu (ReLU)        (None, None, None, 64)    0         \n",
            "_________________________________________________________________\n",
            "conv_pw_2 (Conv2D)           (None, None, None, 128)   8192      \n",
            "_________________________________________________________________\n",
            "conv_pw_2_bn (BatchNormaliza (None, None, None, 128)   512       \n",
            "_________________________________________________________________\n",
            "conv_pw_2_relu (ReLU)        (None, None, None, 128)   0         \n",
            "_________________________________________________________________\n",
            "conv_dw_3 (DepthwiseConv2D)  (None, None, None, 128)   1152      \n",
            "_________________________________________________________________\n",
            "conv_dw_3_bn (BatchNormaliza (None, None, None, 128)   512       \n",
            "_________________________________________________________________\n",
            "conv_dw_3_relu (ReLU)        (None, None, None, 128)   0         \n",
            "_________________________________________________________________\n",
            "conv_pw_3 (Conv2D)           (None, None, None, 128)   16384     \n",
            "_________________________________________________________________\n",
            "conv_pw_3_bn (BatchNormaliza (None, None, None, 128)   512       \n",
            "_________________________________________________________________\n",
            "conv_pw_3_relu (ReLU)        (None, None, None, 128)   0         \n",
            "_________________________________________________________________\n",
            "conv_pad_4 (ZeroPadding2D)   (None, None, None, 128)   0         \n",
            "_________________________________________________________________\n",
            "conv_dw_4 (DepthwiseConv2D)  (None, None, None, 128)   1152      \n",
            "_________________________________________________________________\n",
            "conv_dw_4_bn (BatchNormaliza (None, None, None, 128)   512       \n",
            "_________________________________________________________________\n",
            "conv_dw_4_relu (ReLU)        (None, None, None, 128)   0         \n",
            "_________________________________________________________________\n",
            "conv_pw_4 (Conv2D)           (None, None, None, 256)   32768     \n",
            "_________________________________________________________________\n",
            "conv_pw_4_bn (BatchNormaliza (None, None, None, 256)   1024      \n",
            "_________________________________________________________________\n",
            "conv_pw_4_relu (ReLU)        (None, None, None, 256)   0         \n",
            "_________________________________________________________________\n",
            "conv_dw_5 (DepthwiseConv2D)  (None, None, None, 256)   2304      \n",
            "_________________________________________________________________\n",
            "conv_dw_5_bn (BatchNormaliza (None, None, None, 256)   1024      \n",
            "_________________________________________________________________\n",
            "conv_dw_5_relu (ReLU)        (None, None, None, 256)   0         \n",
            "_________________________________________________________________\n",
            "conv_pw_5 (Conv2D)           (None, None, None, 256)   65536     \n",
            "_________________________________________________________________\n",
            "conv_pw_5_bn (BatchNormaliza (None, None, None, 256)   1024      \n",
            "_________________________________________________________________\n",
            "conv_pw_5_relu (ReLU)        (None, None, None, 256)   0         \n",
            "_________________________________________________________________\n",
            "conv_pad_6 (ZeroPadding2D)   (None, None, None, 256)   0         \n",
            "_________________________________________________________________\n",
            "conv_dw_6 (DepthwiseConv2D)  (None, None, None, 256)   2304      \n",
            "_________________________________________________________________\n",
            "conv_dw_6_bn (BatchNormaliza (None, None, None, 256)   1024      \n",
            "_________________________________________________________________\n",
            "conv_dw_6_relu (ReLU)        (None, None, None, 256)   0         \n",
            "_________________________________________________________________\n",
            "conv_pw_6 (Conv2D)           (None, None, None, 512)   131072    \n",
            "_________________________________________________________________\n",
            "conv_pw_6_bn (BatchNormaliza (None, None, None, 512)   2048      \n",
            "_________________________________________________________________\n",
            "conv_pw_6_relu (ReLU)        (None, None, None, 512)   0         \n",
            "_________________________________________________________________\n",
            "conv_dw_7 (DepthwiseConv2D)  (None, None, None, 512)   4608      \n",
            "_________________________________________________________________\n",
            "conv_dw_7_bn (BatchNormaliza (None, None, None, 512)   2048      \n",
            "_________________________________________________________________\n",
            "conv_dw_7_relu (ReLU)        (None, None, None, 512)   0         \n",
            "_________________________________________________________________\n",
            "conv_pw_7 (Conv2D)           (None, None, None, 512)   262144    \n",
            "_________________________________________________________________\n",
            "conv_pw_7_bn (BatchNormaliza (None, None, None, 512)   2048      \n",
            "_________________________________________________________________\n",
            "conv_pw_7_relu (ReLU)        (None, None, None, 512)   0         \n",
            "_________________________________________________________________\n",
            "conv_dw_8 (DepthwiseConv2D)  (None, None, None, 512)   4608      \n",
            "_________________________________________________________________\n",
            "conv_dw_8_bn (BatchNormaliza (None, None, None, 512)   2048      \n",
            "_________________________________________________________________\n",
            "conv_dw_8_relu (ReLU)        (None, None, None, 512)   0         \n",
            "_________________________________________________________________\n",
            "conv_pw_8 (Conv2D)           (None, None, None, 512)   262144    \n",
            "_________________________________________________________________\n",
            "conv_pw_8_bn (BatchNormaliza (None, None, None, 512)   2048      \n",
            "_________________________________________________________________\n",
            "conv_pw_8_relu (ReLU)        (None, None, None, 512)   0         \n",
            "_________________________________________________________________\n",
            "conv_dw_9 (DepthwiseConv2D)  (None, None, None, 512)   4608      \n",
            "_________________________________________________________________\n",
            "conv_dw_9_bn (BatchNormaliza (None, None, None, 512)   2048      \n",
            "_________________________________________________________________\n",
            "conv_dw_9_relu (ReLU)        (None, None, None, 512)   0         \n",
            "_________________________________________________________________\n",
            "conv_pw_9 (Conv2D)           (None, None, None, 512)   262144    \n",
            "_________________________________________________________________\n",
            "conv_pw_9_bn (BatchNormaliza (None, None, None, 512)   2048      \n",
            "_________________________________________________________________\n",
            "conv_pw_9_relu (ReLU)        (None, None, None, 512)   0         \n",
            "_________________________________________________________________\n",
            "conv_dw_10 (DepthwiseConv2D) (None, None, None, 512)   4608      \n",
            "_________________________________________________________________\n",
            "conv_dw_10_bn (BatchNormaliz (None, None, None, 512)   2048      \n",
            "_________________________________________________________________\n",
            "conv_dw_10_relu (ReLU)       (None, None, None, 512)   0         \n",
            "_________________________________________________________________\n",
            "conv_pw_10 (Conv2D)          (None, None, None, 512)   262144    \n",
            "_________________________________________________________________\n",
            "conv_pw_10_bn (BatchNormaliz (None, None, None, 512)   2048      \n",
            "_________________________________________________________________\n",
            "conv_pw_10_relu (ReLU)       (None, None, None, 512)   0         \n",
            "_________________________________________________________________\n",
            "conv_dw_11 (DepthwiseConv2D) (None, None, None, 512)   4608      \n",
            "_________________________________________________________________\n",
            "conv_dw_11_bn (BatchNormaliz (None, None, None, 512)   2048      \n",
            "_________________________________________________________________\n",
            "conv_dw_11_relu (ReLU)       (None, None, None, 512)   0         \n",
            "_________________________________________________________________\n",
            "conv_pw_11 (Conv2D)          (None, None, None, 512)   262144    \n",
            "_________________________________________________________________\n",
            "conv_pw_11_bn (BatchNormaliz (None, None, None, 512)   2048      \n",
            "_________________________________________________________________\n",
            "conv_pw_11_relu (ReLU)       (None, None, None, 512)   0         \n",
            "_________________________________________________________________\n",
            "conv_pad_12 (ZeroPadding2D)  (None, None, None, 512)   0         \n",
            "_________________________________________________________________\n",
            "conv_dw_12 (DepthwiseConv2D) (None, None, None, 512)   4608      \n",
            "_________________________________________________________________\n",
            "conv_dw_12_bn (BatchNormaliz (None, None, None, 512)   2048      \n",
            "_________________________________________________________________\n",
            "conv_dw_12_relu (ReLU)       (None, None, None, 512)   0         \n",
            "_________________________________________________________________\n",
            "conv_pw_12 (Conv2D)          (None, None, None, 1024)  524288    \n",
            "_________________________________________________________________\n",
            "conv_pw_12_bn (BatchNormaliz (None, None, None, 1024)  4096      \n",
            "_________________________________________________________________\n",
            "conv_pw_12_relu (ReLU)       (None, None, None, 1024)  0         \n",
            "_________________________________________________________________\n",
            "conv_dw_13 (DepthwiseConv2D) (None, None, None, 1024)  9216      \n",
            "_________________________________________________________________\n",
            "conv_dw_13_bn (BatchNormaliz (None, None, None, 1024)  4096      \n",
            "_________________________________________________________________\n",
            "conv_dw_13_relu (ReLU)       (None, None, None, 1024)  0         \n",
            "_________________________________________________________________\n",
            "conv_pw_13 (Conv2D)          (None, None, None, 1024)  1048576   \n",
            "_________________________________________________________________\n",
            "conv_pw_13_bn (BatchNormaliz (None, None, None, 1024)  4096      \n",
            "_________________________________________________________________\n",
            "conv_pw_13_relu (ReLU)       (None, None, None, 1024)  0         \n",
            "_________________________________________________________________\n",
            "global_average_pooling2d_11  (None, 1024)              0         \n",
            "_________________________________________________________________\n",
            "dropout_11 (Dropout)         (None, 1024)              0         \n",
            "_________________________________________________________________\n",
            "batch_normalization_11 (Batc (None, 1024)              4096      \n",
            "_________________________________________________________________\n",
            "dense_22 (Dense)             (None, 512)               524800    \n",
            "_________________________________________________________________\n",
            "dense_23 (Dense)             (None, 5)                 2565      \n",
            "=================================================================\n",
            "Total params: 3,760,325\n",
            "Trainable params: 3,736,389\n",
            "Non-trainable params: 23,936\n",
            "_________________________________________________________________\n"
          ],
          "name": "stdout"
        }
      ]
    },
    {
      "cell_type": "code",
      "metadata": {
        "id": "UYE84irAOn9O"
      },
      "source": [
        "es = EarlyStopping(monitor='val_loss',\n",
        "                   patience=5,\n",
        "                   mode='auto',\n",
        "                   restore_best_weights=True)\n",
        "checkpoint = ModelCheckpoint('best_weight_scene_mobileNet.h5',\n",
        "                             monitor='val_accuracy',\n",
        "                             verbose=1,\n",
        "                             save_best_only=True,\n",
        "                             mode='auto',)"
      ],
      "execution_count": 161,
      "outputs": []
    },
    {
      "cell_type": "code",
      "metadata": {
        "id": "sbtnwtFUOqp0"
      },
      "source": [
        "from keras.models import Sequential\n",
        "from keras.layers.core import Flatten\n",
        "from keras.layers.core import Dense\n",
        "\n",
        "model = Sequential(\n",
        "    [\n",
        "        Flatten(input_shape=(224*224*3,)),\n",
        "        Dense(100, activation=\"relu\", name=\"layer1\"),\n",
        "        Dense(16, activation=\"relu\", name=\"layer2\"),\n",
        "        Dense(16, activation=\"relu\", name=\"layer3\"),\n",
        "        Dense(5, activation = \"softmax\", name=\"layer4\"),\n",
        "    ]\n",
        ")"
      ],
      "execution_count": 162,
      "outputs": []
    },
    {
      "cell_type": "code",
      "metadata": {
        "id": "ySULYBFXOuN6",
        "colab": {
          "base_uri": "https://localhost:8080/"
        },
        "outputId": "991e779e-10e7-45c1-a174-48aab2b7c37c"
      },
      "source": [
        "model.summary()"
      ],
      "execution_count": 163,
      "outputs": [
        {
          "output_type": "stream",
          "text": [
            "Model: \"sequential_16\"\n",
            "_________________________________________________________________\n",
            "Layer (type)                 Output Shape              Param #   \n",
            "=================================================================\n",
            "flatten_16 (Flatten)         (None, 150528)            0         \n",
            "_________________________________________________________________\n",
            "layer1 (Dense)               (None, 100)               15052900  \n",
            "_________________________________________________________________\n",
            "layer2 (Dense)               (None, 16)                1616      \n",
            "_________________________________________________________________\n",
            "layer3 (Dense)               (None, 16)                272       \n",
            "_________________________________________________________________\n",
            "layer4 (Dense)               (None, 5)                 85        \n",
            "=================================================================\n",
            "Total params: 15,054,873\n",
            "Trainable params: 15,054,873\n",
            "Non-trainable params: 0\n",
            "_________________________________________________________________\n"
          ],
          "name": "stdout"
        }
      ]
    },
    {
      "cell_type": "code",
      "metadata": {
        "id": "PQKbr3UvOxQU",
        "colab": {
          "base_uri": "https://localhost:8080/"
        },
        "outputId": "129bd263-d203-4012-f294-2107531fbcf3"
      },
      "source": [
        "# train the model using the Adam optimizer\n",
        "print(\"[INFO] training network...\")\n",
        "opt = Adam(lr=1e-3, decay=1e-3 / 50)\n",
        "model.compile(loss=\"categorical_crossentropy\", optimizer=opt,\n",
        "\t\t\t\t\t\tmetrics=[\"accuracy\"])\n",
        "H = model.fit(trainX, trainY, validation_data=(testX, testY), epochs=150, batch_size=32, callbacks=[es, checkpoint])"
      ],
      "execution_count": 164,
      "outputs": [
        {
          "output_type": "stream",
          "text": [
            "[INFO] training network...\n",
            "Epoch 1/150\n",
            "WARNING:tensorflow:Model was constructed with shape (None, 150528) for input Tensor(\"flatten_16_input:0\", shape=(None, 150528), dtype=float32), but it was called on an input with incompatible shape (None, 224, 224, 3).\n",
            "WARNING:tensorflow:Model was constructed with shape (None, 150528) for input Tensor(\"flatten_16_input:0\", shape=(None, 150528), dtype=float32), but it was called on an input with incompatible shape (None, 224, 224, 3).\n",
            "15/15 [==============================] - ETA: 0s - loss: 26.8815 - accuracy: 0.1904WARNING:tensorflow:Model was constructed with shape (None, 150528) for input Tensor(\"flatten_16_input:0\", shape=(None, 150528), dtype=float32), but it was called on an input with incompatible shape (None, 224, 224, 3).\n",
            "\n",
            "Epoch 00001: val_accuracy improved from -inf to 0.16471, saving model to best_weight_scene_mobileNet.h5\n",
            "15/15 [==============================] - 4s 260ms/step - loss: 26.8815 - accuracy: 0.1904 - val_loss: 12.2458 - val_accuracy: 0.1647\n",
            "Epoch 2/150\n",
            "15/15 [==============================] - ETA: 0s - loss: 10.2608 - accuracy: 0.1695\n",
            "Epoch 00002: val_accuracy improved from 0.16471 to 0.23529, saving model to best_weight_scene_mobileNet.h5\n",
            "15/15 [==============================] - 2s 160ms/step - loss: 10.2608 - accuracy: 0.1695 - val_loss: 8.0582 - val_accuracy: 0.2353\n",
            "Epoch 3/150\n",
            "15/15 [==============================] - ETA: 0s - loss: 5.6125 - accuracy: 0.2259\n",
            "Epoch 00003: val_accuracy improved from 0.23529 to 0.25882, saving model to best_weight_scene_mobileNet.h5\n",
            "15/15 [==============================] - 2s 151ms/step - loss: 5.6125 - accuracy: 0.2259 - val_loss: 3.0317 - val_accuracy: 0.2588\n",
            "Epoch 4/150\n",
            "15/15 [==============================] - ETA: 0s - loss: 3.2409 - accuracy: 0.3013\n",
            "Epoch 00004: val_accuracy improved from 0.25882 to 0.35294, saving model to best_weight_scene_mobileNet.h5\n",
            "15/15 [==============================] - 2s 153ms/step - loss: 3.2409 - accuracy: 0.3013 - val_loss: 1.9467 - val_accuracy: 0.3529\n",
            "Epoch 5/150\n",
            "15/15 [==============================] - ETA: 0s - loss: 1.4562 - accuracy: 0.4142\n",
            "Epoch 00005: val_accuracy improved from 0.35294 to 0.51765, saving model to best_weight_scene_mobileNet.h5\n",
            "15/15 [==============================] - 2s 153ms/step - loss: 1.4562 - accuracy: 0.4142 - val_loss: 1.3013 - val_accuracy: 0.5176\n",
            "Epoch 6/150\n",
            "15/15 [==============================] - ETA: 0s - loss: 1.2608 - accuracy: 0.4623\n",
            "Epoch 00006: val_accuracy did not improve from 0.51765\n",
            "15/15 [==============================] - 2s 103ms/step - loss: 1.2608 - accuracy: 0.4623 - val_loss: 1.2637 - val_accuracy: 0.4588\n",
            "Epoch 7/150\n",
            "15/15 [==============================] - ETA: 0s - loss: 1.3013 - accuracy: 0.4707\n",
            "Epoch 00007: val_accuracy improved from 0.51765 to 0.60000, saving model to best_weight_scene_mobileNet.h5\n",
            "15/15 [==============================] - 2s 152ms/step - loss: 1.3013 - accuracy: 0.4707 - val_loss: 1.0031 - val_accuracy: 0.6000\n",
            "Epoch 8/150\n",
            "15/15 [==============================] - ETA: 0s - loss: 1.1096 - accuracy: 0.5544\n",
            "Epoch 00008: val_accuracy did not improve from 0.60000\n",
            "15/15 [==============================] - 2s 101ms/step - loss: 1.1096 - accuracy: 0.5544 - val_loss: 1.2085 - val_accuracy: 0.4000\n",
            "Epoch 9/150\n",
            "15/15 [==============================] - ETA: 0s - loss: 1.1497 - accuracy: 0.5230\n",
            "Epoch 00009: val_accuracy did not improve from 0.60000\n",
            "15/15 [==============================] - 1s 100ms/step - loss: 1.1497 - accuracy: 0.5230 - val_loss: 1.0673 - val_accuracy: 0.4588\n",
            "Epoch 10/150\n",
            "15/15 [==============================] - ETA: 0s - loss: 1.0855 - accuracy: 0.5481\n",
            "Epoch 00010: val_accuracy improved from 0.60000 to 0.68235, saving model to best_weight_scene_mobileNet.h5\n",
            "15/15 [==============================] - 2s 148ms/step - loss: 1.0855 - accuracy: 0.5481 - val_loss: 0.9627 - val_accuracy: 0.6824\n",
            "Epoch 11/150\n",
            "15/15 [==============================] - ETA: 0s - loss: 0.8951 - accuracy: 0.6130\n",
            "Epoch 00011: val_accuracy did not improve from 0.68235\n",
            "15/15 [==============================] - 2s 104ms/step - loss: 0.8951 - accuracy: 0.6130 - val_loss: 1.0306 - val_accuracy: 0.5882\n",
            "Epoch 12/150\n",
            "15/15 [==============================] - ETA: 0s - loss: 0.7888 - accuracy: 0.6778\n",
            "Epoch 00012: val_accuracy did not improve from 0.68235\n",
            "15/15 [==============================] - 2s 103ms/step - loss: 0.7888 - accuracy: 0.6778 - val_loss: 0.8703 - val_accuracy: 0.6118\n",
            "Epoch 13/150\n",
            "15/15 [==============================] - ETA: 0s - loss: 0.9000 - accuracy: 0.6318\n",
            "Epoch 00013: val_accuracy did not improve from 0.68235\n",
            "15/15 [==============================] - 1s 100ms/step - loss: 0.9000 - accuracy: 0.6318 - val_loss: 1.0349 - val_accuracy: 0.5647\n",
            "Epoch 14/150\n",
            "15/15 [==============================] - ETA: 0s - loss: 0.9219 - accuracy: 0.6381\n",
            "Epoch 00014: val_accuracy did not improve from 0.68235\n",
            "15/15 [==============================] - 2s 103ms/step - loss: 0.9219 - accuracy: 0.6381 - val_loss: 1.0299 - val_accuracy: 0.5647\n",
            "Epoch 15/150\n",
            "15/15 [==============================] - ETA: 0s - loss: 1.0157 - accuracy: 0.5858\n",
            "Epoch 00015: val_accuracy did not improve from 0.68235\n",
            "15/15 [==============================] - 2s 101ms/step - loss: 1.0157 - accuracy: 0.5858 - val_loss: 1.0890 - val_accuracy: 0.5176\n",
            "Epoch 16/150\n",
            "15/15 [==============================] - ETA: 0s - loss: 0.8067 - accuracy: 0.6695\n",
            "Epoch 00016: val_accuracy improved from 0.68235 to 0.72941, saving model to best_weight_scene_mobileNet.h5\n",
            "15/15 [==============================] - 2s 151ms/step - loss: 0.8067 - accuracy: 0.6695 - val_loss: 0.8359 - val_accuracy: 0.7294\n",
            "Epoch 17/150\n",
            "15/15 [==============================] - ETA: 0s - loss: 0.6712 - accuracy: 0.7385\n",
            "Epoch 00017: val_accuracy did not improve from 0.72941\n",
            "15/15 [==============================] - 2s 100ms/step - loss: 0.6712 - accuracy: 0.7385 - val_loss: 0.9190 - val_accuracy: 0.6706\n",
            "Epoch 18/150\n",
            "15/15 [==============================] - ETA: 0s - loss: 0.8018 - accuracy: 0.6883\n",
            "Epoch 00018: val_accuracy did not improve from 0.72941\n",
            "15/15 [==============================] - 2s 102ms/step - loss: 0.8018 - accuracy: 0.6883 - val_loss: 0.9095 - val_accuracy: 0.6588\n",
            "Epoch 19/150\n",
            "15/15 [==============================] - ETA: 0s - loss: 0.6920 - accuracy: 0.7301\n",
            "Epoch 00019: val_accuracy did not improve from 0.72941\n",
            "15/15 [==============================] - 2s 100ms/step - loss: 0.6920 - accuracy: 0.7301 - val_loss: 0.8448 - val_accuracy: 0.6353\n",
            "Epoch 20/150\n",
            "15/15 [==============================] - ETA: 0s - loss: 0.6076 - accuracy: 0.7615\n",
            "Epoch 00020: val_accuracy did not improve from 0.72941\n",
            "15/15 [==============================] - 2s 102ms/step - loss: 0.6076 - accuracy: 0.7615 - val_loss: 0.7269 - val_accuracy: 0.7059\n",
            "Epoch 21/150\n",
            "15/15 [==============================] - ETA: 0s - loss: 0.6029 - accuracy: 0.7762\n",
            "Epoch 00021: val_accuracy improved from 0.72941 to 0.75294, saving model to best_weight_scene_mobileNet.h5\n",
            "15/15 [==============================] - 2s 148ms/step - loss: 0.6029 - accuracy: 0.7762 - val_loss: 0.7154 - val_accuracy: 0.7529\n",
            "Epoch 22/150\n",
            "15/15 [==============================] - ETA: 0s - loss: 0.6878 - accuracy: 0.7197\n",
            "Epoch 00022: val_accuracy did not improve from 0.75294\n",
            "15/15 [==============================] - 2s 104ms/step - loss: 0.6878 - accuracy: 0.7197 - val_loss: 0.8404 - val_accuracy: 0.7059\n",
            "Epoch 23/150\n",
            "15/15 [==============================] - ETA: 0s - loss: 0.6099 - accuracy: 0.7531\n",
            "Epoch 00023: val_accuracy improved from 0.75294 to 0.80000, saving model to best_weight_scene_mobileNet.h5\n",
            "15/15 [==============================] - 2s 147ms/step - loss: 0.6099 - accuracy: 0.7531 - val_loss: 0.6747 - val_accuracy: 0.8000\n",
            "Epoch 24/150\n",
            "15/15 [==============================] - ETA: 0s - loss: 0.5695 - accuracy: 0.7552\n",
            "Epoch 00024: val_accuracy did not improve from 0.80000\n",
            "15/15 [==============================] - 2s 104ms/step - loss: 0.5695 - accuracy: 0.7552 - val_loss: 0.7548 - val_accuracy: 0.6941\n",
            "Epoch 25/150\n",
            "15/15 [==============================] - ETA: 0s - loss: 0.5550 - accuracy: 0.7971\n",
            "Epoch 00025: val_accuracy did not improve from 0.80000\n",
            "15/15 [==============================] - 2s 100ms/step - loss: 0.5550 - accuracy: 0.7971 - val_loss: 0.6826 - val_accuracy: 0.7529\n",
            "Epoch 26/150\n",
            "15/15 [==============================] - ETA: 0s - loss: 0.4669 - accuracy: 0.8264\n",
            "Epoch 00026: val_accuracy did not improve from 0.80000\n",
            "15/15 [==============================] - 2s 101ms/step - loss: 0.4669 - accuracy: 0.8264 - val_loss: 0.7386 - val_accuracy: 0.7412\n",
            "Epoch 27/150\n",
            "15/15 [==============================] - ETA: 0s - loss: 0.5439 - accuracy: 0.7992\n",
            "Epoch 00027: val_accuracy did not improve from 0.80000\n",
            "15/15 [==============================] - 2s 102ms/step - loss: 0.5439 - accuracy: 0.7992 - val_loss: 0.6667 - val_accuracy: 0.7294\n",
            "Epoch 28/150\n",
            "15/15 [==============================] - ETA: 0s - loss: 0.5232 - accuracy: 0.8138\n",
            "Epoch 00028: val_accuracy did not improve from 0.80000\n",
            "15/15 [==============================] - 2s 112ms/step - loss: 0.5232 - accuracy: 0.8138 - val_loss: 0.7683 - val_accuracy: 0.7412\n",
            "Epoch 29/150\n",
            "15/15 [==============================] - ETA: 0s - loss: 0.5841 - accuracy: 0.7824\n",
            "Epoch 00029: val_accuracy did not improve from 0.80000\n",
            "15/15 [==============================] - 2s 111ms/step - loss: 0.5841 - accuracy: 0.7824 - val_loss: 0.9967 - val_accuracy: 0.6353\n",
            "Epoch 30/150\n",
            "15/15 [==============================] - ETA: 0s - loss: 0.7088 - accuracy: 0.7071\n",
            "Epoch 00030: val_accuracy did not improve from 0.80000\n",
            "15/15 [==============================] - 2s 109ms/step - loss: 0.7088 - accuracy: 0.7071 - val_loss: 0.6712 - val_accuracy: 0.8000\n",
            "Epoch 31/150\n",
            "15/15 [==============================] - ETA: 0s - loss: 0.5087 - accuracy: 0.8201\n",
            "Epoch 00031: val_accuracy did not improve from 0.80000\n",
            "15/15 [==============================] - 2s 103ms/step - loss: 0.5087 - accuracy: 0.8201 - val_loss: 0.6544 - val_accuracy: 0.7647\n",
            "Epoch 32/150\n",
            "15/15 [==============================] - ETA: 0s - loss: 0.4592 - accuracy: 0.8180\n",
            "Epoch 00032: val_accuracy did not improve from 0.80000\n",
            "15/15 [==============================] - 2s 100ms/step - loss: 0.4592 - accuracy: 0.8180 - val_loss: 0.7925 - val_accuracy: 0.7765\n",
            "Epoch 33/150\n",
            "15/15 [==============================] - ETA: 0s - loss: 0.4651 - accuracy: 0.8222\n",
            "Epoch 00033: val_accuracy did not improve from 0.80000\n",
            "15/15 [==============================] - 2s 102ms/step - loss: 0.4651 - accuracy: 0.8222 - val_loss: 0.5854 - val_accuracy: 0.8000\n",
            "Epoch 34/150\n",
            "15/15 [==============================] - ETA: 0s - loss: 0.4424 - accuracy: 0.8515\n",
            "Epoch 00034: val_accuracy did not improve from 0.80000\n",
            "15/15 [==============================] - 1s 99ms/step - loss: 0.4424 - accuracy: 0.8515 - val_loss: 0.8841 - val_accuracy: 0.7059\n",
            "Epoch 35/150\n",
            "15/15 [==============================] - ETA: 0s - loss: 0.4823 - accuracy: 0.8264\n",
            "Epoch 00035: val_accuracy did not improve from 0.80000\n",
            "15/15 [==============================] - 2s 101ms/step - loss: 0.4823 - accuracy: 0.8264 - val_loss: 0.6236 - val_accuracy: 0.8000\n",
            "Epoch 36/150\n",
            "15/15 [==============================] - ETA: 0s - loss: 0.4575 - accuracy: 0.8243\n",
            "Epoch 00036: val_accuracy did not improve from 0.80000\n",
            "15/15 [==============================] - 2s 103ms/step - loss: 0.4575 - accuracy: 0.8243 - val_loss: 0.7366 - val_accuracy: 0.7412\n",
            "Epoch 37/150\n",
            "15/15 [==============================] - ETA: 0s - loss: 0.4248 - accuracy: 0.8577\n",
            "Epoch 00037: val_accuracy did not improve from 0.80000\n",
            "15/15 [==============================] - 2s 102ms/step - loss: 0.4248 - accuracy: 0.8577 - val_loss: 0.6646 - val_accuracy: 0.7647\n",
            "Epoch 38/150\n",
            "15/15 [==============================] - ETA: 0s - loss: 0.8397 - accuracy: 0.7092\n",
            "Epoch 00038: val_accuracy did not improve from 0.80000\n",
            "15/15 [==============================] - 2s 101ms/step - loss: 0.8397 - accuracy: 0.7092 - val_loss: 1.5568 - val_accuracy: 0.5529\n"
          ],
          "name": "stdout"
        }
      ]
    },
    {
      "cell_type": "code",
      "metadata": {
        "id": "urEBsaahOzlj",
        "colab": {
          "base_uri": "https://localhost:8080/",
          "height": 590
        },
        "outputId": "929bc20f-be1a-4ecf-a550-8788f15e32c7"
      },
      "source": [
        "import matplotlib.pyplot as plt\n",
        "\n",
        "print(H.history.keys())\n",
        "# summarize history for accuracy\n",
        "plt.plot(H.history['accuracy'])\n",
        "plt.plot(H.history['val_accuracy'])\n",
        "plt.title('model accuracy')\n",
        "plt.ylabel('accuracy')\n",
        "plt.xlabel('epoch')\n",
        "plt.legend(['train', 'test'], loc='upper left')\n",
        "plt.show()\n",
        "# summarize history for loss\n",
        "plt.plot(H.history['loss'])\n",
        "plt.plot(H.history['val_loss'])\n",
        "plt.title('model loss')\n",
        "plt.ylabel('loss')\n",
        "plt.xlabel('epoch')\n",
        "plt.legend(['train', 'test'], loc='upper left')\n",
        "plt.show()"
      ],
      "execution_count": 165,
      "outputs": [
        {
          "output_type": "stream",
          "text": [
            "dict_keys(['loss', 'accuracy', 'val_loss', 'val_accuracy'])\n"
          ],
          "name": "stdout"
        },
        {
          "output_type": "display_data",
          "data": {
            "image/png": "[encoded data removed]",
            "text/plain": [
              "<Figure size 432x288 with 1 Axes>"
            ]
          },
          "metadata": {
            "tags": [],
            "needs_background": "light"
          }
        },
        {
          "output_type": "display_data",
          "data": {
            "image/png": "[encoded data removed]",
            "text/plain": [
              "<Figure size 432x288 with 1 Axes>"
            ]
          },
          "metadata": {
            "tags": [],
            "needs_background": "light"
          }
        }
      ]
    },
    {
      "cell_type": "code",
      "metadata": {
        "id": "RqaSvcdIO2Pj",
        "colab": {
          "base_uri": "https://localhost:8080/"
        },
        "outputId": "36e8fb3b-7a0b-4821-975a-4e87b386f707"
      },
      "source": [
        "# evaluate the network\n",
        "print(\"[INFO] evaluating network...\")\n",
        "predictions = model.predict(testX, batch_size=32)\n",
        "print(classification_report(testY.argmax(axis=1),\n",
        "\tpredictions.argmax(axis=1), target_names=lb.classes_))"
      ],
      "execution_count": 166,
      "outputs": [
        {
          "output_type": "stream",
          "text": [
            "[INFO] evaluating network...\n",
            "WARNING:tensorflow:Model was constructed with shape (None, 150528) for input Tensor(\"flatten_16_input:0\", shape=(None, 150528), dtype=float32), but it was called on an input with incompatible shape (None, 224, 224, 3).\n",
            "              precision    recall  f1-score   support\n",
            "\n",
            "      GMB_02       0.85      0.89      0.87        19\n",
            "      GMB_03       0.70      0.82      0.76        17\n",
            "      GMB_08       0.85      0.58      0.69        19\n",
            "      GMB_09       0.79      0.83      0.81        18\n",
            "      nonGMB       0.85      0.92      0.88        12\n",
            "\n",
            "    accuracy                           0.80        85\n",
            "   macro avg       0.81      0.81      0.80        85\n",
            "weighted avg       0.81      0.80      0.80        85\n",
            "\n"
          ],
          "name": "stdout"
        }
      ]
    },
    {
      "cell_type": "code",
      "metadata": {
        "id": "OYjSaNWuO4zN"
      },
      "source": [
        "model.save('nnmodel_daunhijau')"
      ],
      "execution_count": null,
      "outputs": []
    }
  ]
}
